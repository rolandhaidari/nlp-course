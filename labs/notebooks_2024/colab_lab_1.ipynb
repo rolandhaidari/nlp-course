{
  "cells": [
    {
      "cell_type": "markdown",
      "metadata": {
        "id": "view-in-github",
        "colab_type": "text"
      },
      "source": [
        "<a href=\"https://colab.research.google.com/github/rolandhaidari/nlp-course/blob/master/labs/notebooks_2024/colab_lab_1.ipynb\" target=\"_parent\"><img src=\"https://colab.research.google.com/assets/colab-badge.svg\" alt=\"Open In Colab\"/></a>"
      ]
    },
    {
      "cell_type": "markdown",
      "metadata": {
        "id": "WwyRCWYP-m1V"
      },
      "source": [
        "# Welcome\n",
        "\n",
        "<table>\n",
        "      <tr>\n",
        "    <td style=\"text-align:center\">Ruchira Dhar</td>\n",
        "    <td style=\"text-align:center\">Christian Mølholt Jensen</td>\n",
        "    <td style=\"text-align:center\">Thomas Brun Lau Christensen</td>\n",
        "    <td style=\"text-align:center\">Zixuan Xu</td>\n",
        "  </tr>\n",
        "    <tr>\n",
        "  <td><img src=\"https://github.com/rolandhaidari/nlp-course/blob/master/img/Ruchira.jpeg?raw=1\" width=\"200px\" /></td>\n",
        "  <td><img src=\"https://github.com/rolandhaidari/nlp-course/blob/master/img/Christian.jpg?raw=1\" width=\"200px\" /></td>\n",
        "  <td><img src=\"https://github.com/rolandhaidari/nlp-course/blob/master/img/Thomas.jpeg?raw=1\" width=\"200px\" /></td>\n",
        "  <td><img src=\"https://github.com/rolandhaidari/nlp-course/blob/master/img/Zixuan.jpeg?raw=1\" width=\"200px\" /></td>\n",
        "    </tr>\n",
        "</table>"
      ]
    },
    {
      "cell_type": "markdown",
      "metadata": {
        "id": "o6CBBIV9-m1X"
      },
      "source": [
        "## Lab Schedule\n",
        "    \n",
        "- Lab Sessions:\n",
        "    - Group 1: Mondays, 10-12 in the old library (4-0-17), Universitetsparken 1, Weeks 37-41 + 43-44\n",
        "    - Group 2: Fridays, 10-12 in the old library (4-0-17), Universitetsparken 1, Weeks 36-41 + 43-44\n",
        "\n",
        "We have assigned you to one of two lab session groups based on your answers to the [Getting to Know You survey](https://absalon.instructure.com/courses/52205/quizzes/62668). Please note that this is a preliminary assignment."
      ]
    },
    {
      "cell_type": "markdown",
      "metadata": {
        "id": "ITKUKJNg-m1X"
      },
      "source": [
        "## Lab Agenda\n",
        "\n",
        "- Introduction to useful tools for the course (Jupyter, Google Colab)\n",
        "- Setting up the course environment\n",
        "- Tokenisation\n",
        "- Introduction to PyTorch\n",
        "- Questions about the course project / group work on the  project"
      ]
    },
    {
      "cell_type": "markdown",
      "metadata": {
        "id": "5VOMqX6C-m1Y"
      },
      "source": [
        "## Introduction to Jupyter\n",
        "\n",
        "Jupyter is an open-source web app that combines visualisations, narrative text, mathematical equations, and other rich media in a single document.\n",
        "\n",
        "* Creating new notebook - from the menu File -> New Notebook. Once created, you can rename the notebook by clicking on its name and edit its content by adding (plus button), deleting or editing cells."
      ]
    },
    {
      "cell_type": "code",
      "execution_count": 1,
      "metadata": {
        "id": "9BGQEhDc-m1Y",
        "outputId": "dcfbe91e-e8c2-4fa4-95c9-3258a3e8d781",
        "colab": {
          "base_uri": "https://localhost:8080/"
        }
      },
      "outputs": [
        {
          "output_type": "stream",
          "name": "stdout",
          "text": [
            "Hello, World!\n"
          ]
        }
      ],
      "source": [
        "print(\"Hello, World!\"); # this is a code block"
      ]
    },
    {
      "cell_type": "markdown",
      "metadata": {
        "id": "AroND7M8-m1Z"
      },
      "source": [
        "This is a _Markdown block_ where you can write text."
      ]
    },
    {
      "cell_type": "markdown",
      "metadata": {
        "id": "WIjAPUn1-m1a"
      },
      "source": [
        "You can get help about a method with __(<kbd>Shift</kbd> + <kbd>Tab</kbd>)__\n",
        "\n",
        "__(<kbd>Shift</kbd> + <kbd>Enter</kbd>)__ executes the text/code blocks\n",
        "\n",
        "While the a code cell is being executed, you'll see a star on the right side of the cell."
      ]
    },
    {
      "cell_type": "code",
      "execution_count": 2,
      "metadata": {
        "id": "yj1FPtV4-m1a",
        "outputId": "6881d8b1-6aa1-496c-a43b-a84226859aac",
        "colab": {
          "base_uri": "https://localhost:8080/"
        }
      },
      "outputs": [
        {
          "output_type": "stream",
          "name": "stdout",
          "text": [
            "Python 3.10.12\n"
          ]
        }
      ],
      "source": [
        "!python --version # you can also write shell commands in code blocks"
      ]
    },
    {
      "cell_type": "code",
      "execution_count": 3,
      "metadata": {
        "id": "hYhFx7lQ-m1a",
        "outputId": "05cb06b2-90a9-4788-af4b-c2eb9b6f9ab5",
        "colab": {
          "base_uri": "https://localhost:8080/"
        }
      },
      "outputs": [
        {
          "output_type": "stream",
          "name": "stdout",
          "text": [
            "Requirement already satisfied: nltk in /usr/local/lib/python3.10/dist-packages (3.8.1)\n",
            "Requirement already satisfied: click in /usr/local/lib/python3.10/dist-packages (from nltk) (8.1.7)\n",
            "Requirement already satisfied: joblib in /usr/local/lib/python3.10/dist-packages (from nltk) (1.4.2)\n",
            "Requirement already satisfied: regex>=2021.8.3 in /usr/local/lib/python3.10/dist-packages (from nltk) (2024.5.15)\n",
            "Requirement already satisfied: tqdm in /usr/local/lib/python3.10/dist-packages (from nltk) (4.66.5)\n"
          ]
        }
      ],
      "source": [
        "!pip3 install nltk # you can also install new libraries"
      ]
    },
    {
      "cell_type": "markdown",
      "metadata": {
        "id": "15dE0Qrt-m1b"
      },
      "source": [
        "We can also create visualisations and save them."
      ]
    },
    {
      "cell_type": "code",
      "execution_count": 4,
      "metadata": {
        "id": "IoB7SUcS-m1b",
        "outputId": "fee563c7-9db0-4445-ba20-1592abb11dda",
        "colab": {
          "base_uri": "https://localhost:8080/",
          "height": 430
        }
      },
      "outputs": [
        {
          "output_type": "display_data",
          "data": {
            "text/plain": [
              "<Figure size 640x480 with 1 Axes>"
            ],
            "image/png": "[encoded data removed]"
          },
          "metadata": {}
        }
      ],
      "source": [
        "import matplotlib.pyplot as plt\n",
        "%matplotlib inline\n",
        "import numpy as np\n",
        "x = np.linspace(0, 10, 100)\n",
        "\n",
        "fig = plt.figure()\n",
        "plt.plot(x, np.sin(x), '-')\n",
        "plt.plot(x, np.cos(x), '--');"
      ]
    },
    {
      "cell_type": "code",
      "execution_count": 5,
      "metadata": {
        "id": "BsdqKXr8-m1b"
      },
      "outputs": [],
      "source": [
        "fig.savefig('my_figure.png')"
      ]
    },
    {
      "cell_type": "code",
      "execution_count": 6,
      "metadata": {
        "id": "JLCTz__b-m1b",
        "outputId": "ee18f6a5-82b0-4163-d477-bd4901b36994",
        "colab": {
          "base_uri": "https://localhost:8080/"
        }
      },
      "outputs": [
        {
          "output_type": "stream",
          "name": "stdout",
          "text": [
            "CPU times: user 50.4 ms, sys: 9.6 ms, total: 60 ms\n",
            "Wall time: 10 s\n"
          ]
        }
      ],
      "source": [
        "import time\n",
        "%time time.sleep(10) # this is some jupyter magic"
      ]
    },
    {
      "cell_type": "markdown",
      "metadata": {
        "id": "WISHWWXx-m1c"
      },
      "source": [
        "All Jupyter magic commands are described [here](https://ipython.readthedocs.io/en/stable/interactive/magics.html)."
      ]
    },
    {
      "cell_type": "code",
      "execution_count": 7,
      "metadata": {
        "id": "Z5BUxqm6-m1c"
      },
      "outputs": [],
      "source": [
        "# Magic used in the notebooks :\n",
        "\n",
        "# automatically re-load imported modules every time before executing the Python code typed\n",
        "%load_ext autoreload\n",
        "%autoreload 2\n",
        "\n",
        "# automatically include matplotlib plots in the frontend of the notebook and save them with the notebook\n",
        "%matplotlib inline"
      ]
    },
    {
      "cell_type": "markdown",
      "metadata": {
        "id": "BU2xX3TA-m1c"
      },
      "source": [
        "### Kernels\n",
        "Behind every notebook runs a **kernel**. When you run a code cell, that code is executed within the kernel. The kernel is build with a specific Python version. Any output is returned back to the cell to be displayed. The kernel’s state persists over time and between cells — it pertains to the document as a whole and not individual cells."
      ]
    },
    {
      "cell_type": "code",
      "execution_count": 8,
      "metadata": {
        "id": "_NhpjqYJ-m1c",
        "outputId": "0e3b828d-1aa7-4670-de25-d6c8e0a049b7",
        "colab": {
          "base_uri": "https://localhost:8080/"
        }
      },
      "outputs": [
        {
          "output_type": "stream",
          "name": "stderr",
          "text": [
            "[nltk_data] Downloading package punkt to /root/nltk_data...\n",
            "[nltk_data]   Unzipping tokenizers/punkt.zip.\n"
          ]
        }
      ],
      "source": [
        "import nltk\n",
        "nltk.download('punkt')\n",
        "\n",
        "text = \"Time flies like an arrow.\""
      ]
    },
    {
      "cell_type": "code",
      "execution_count": null,
      "metadata": {
        "id": "wy_3EhsY-m1c",
        "outputId": "a179e4ca-89f0-4632-eb19-de0d55191598",
        "colab": {
          "base_uri": "https://localhost:8080/"
        }
      },
      "outputs": [
        {
          "output_type": "execute_result",
          "data": {
            "text/plain": [
              "['Time', 'flies', 'like', 'an', 'arrow', '.']"
            ]
          },
          "metadata": {},
          "execution_count": 9
        }
      ],
      "source": [
        "nltk.tokenize.word_tokenize(text)"
      ]
    },
    {
      "cell_type": "markdown",
      "metadata": {
        "id": "DluyTSWH-m1c"
      },
      "source": [
        "### Checkpoints\n",
        "\n",
        "When you create a notebook, a checkpoint file is also saved in a hidden directory called .ipynb_checkpoints. Every time you manually save the notebook (__(<kbd>command</kbd> + <kbd>S</kbd>)__), the checkpoint file updates. Jupyter autosaves your work on occasion, which only updates the .ipynb file but not the checkpoint. You can revert back to the latest checkpoint using File -> Revert to Checkpoint."
      ]
    },
    {
      "cell_type": "markdown",
      "metadata": {
        "id": "vgA2Q48R-m1d"
      },
      "source": [
        "### WARNING\n",
        "\n",
        "Code in Jupyter notebooks can be executed in a non-sequential order. Cells can get deleted.\n",
        "Notebooks are dangerous unless you run each cell exactly once and sequentially!\n",
        "\n",
        "To restart the state of the notebook you can select:\n",
        "**\"Kernel -> Restart & Run All\"**\n",
        "\n",
        "This is especially good to do before sharing your notebook with someone else."
      ]
    },
    {
      "cell_type": "markdown",
      "metadata": {
        "id": "M8lZ9Qvl-m1d"
      },
      "source": [
        "References:\n",
        "- https://www.dataquest.io/blog/jupyter-notebook-tutorial/\n",
        "- https://nbviewer.jupyter.org/github/cgpotts/cs224u/blob/master/tutorial_jupyter_notebooks.ipynb"
      ]
    },
    {
      "cell_type": "markdown",
      "metadata": {
        "id": "JrjuW7JM-m1d"
      },
      "source": [
        "---\n",
        "## Introduction to Colab https://colab.research.google.com/"
      ]
    },
    {
      "cell_type": "markdown",
      "metadata": {
        "id": "IVGPGpuw-m1d"
      },
      "source": [
        "Colab allows to run notebooks on the Google Cloud with free access to GPUs and TPUs. You can run the same commands reviewed above in Colab as well.\n",
        "\n",
        "The notebooks can be shared with other people and you can leave comments and control permissions on it.\n",
        "\n",
        "To run the notebook on GPU/TPU you have to select from the menu Runtime->Change Runtime type, which will be None (CPU) by default.\n",
        "\n",
        "### Collaboration options:\n",
        "- Share button in the upper right corner.\n",
        "- File->Make a Copy creates a copy of the notebook in Drive.\n",
        "- File->Save saves the File to Drive and pins a version to the checkpoint and you can later restore version from File->Revision history\n",
        "- GitHub - you can open notebooks hosted in GitHub, this will open a new editable version of the notebook and any changes won't override the GitHub version. If you want to save the changes to GitHub select File->Make a copy to GitHub.\n",
        "\n",
        "\n",
        "\n",
        "### Using a custom dataset\n",
        "**The code cells below have to be run in a Colab environment!**\n",
        "#### Uploading files from your local file system\n",
        "files.upload returns a dictionary of the files which were uploaded. The dictionary is keyed by the file name and values are the data which were uploaded."
      ]
    },
    {
      "cell_type": "code",
      "execution_count": null,
      "metadata": {
        "id": "UL41pSs_-m1d",
        "outputId": "f885c0f8-4fbb-472d-b688-94416eec5ba5",
        "colab": {
          "base_uri": "https://localhost:8080/",
          "height": 384
        }
      },
      "outputs": [
        {
          "output_type": "display_data",
          "data": {
            "text/plain": [
              "<IPython.core.display.HTML object>"
            ],
            "text/html": [
              "\n",
              "     <input type=\"file\" id=\"files-173748a0-a4cf-4502-add5-173d08dd13f7\" name=\"files[]\" multiple disabled\n",
              "        style=\"border:none\" />\n",
              "     <output id=\"result-173748a0-a4cf-4502-add5-173d08dd13f7\">\n",
              "      Upload widget is only available when the cell has been executed in the\n",
              "      current browser session. Please rerun this cell to enable.\n",
              "      </output>\n",
              "      <script>// Copyright 2017 Google LLC\n",
              "//\n",
              "// Licensed under the Apache License, Version 2.0 (the \"License\");\n",
              "// you may not use this file except in compliance with the License.\n",
              "// You may obtain a copy of the License at\n",
              "//\n",
              "//      http://www.apache.org/licenses/LICENSE-2.0\n",
              "//\n",
              "// Unless required by applicable law or agreed to in writing, software\n",
              "// distributed under the License is distributed on an \"AS IS\" BASIS,\n",
              "// WITHOUT WARRANTIES OR CONDITIONS OF ANY KIND, either express or implied.\n",
              "// See the License for the specific language governing permissions and\n",
              "// limitations under the License.\n",
              "\n",
              "/**\n",
              " * @fileoverview Helpers for google.colab Python module.\n",
              " */\n",
              "(function(scope) {\n",
              "function span(text, styleAttributes = {}) {\n",
              "  const element = document.createElement('span');\n",
              "  element.textContent = text;\n",
              "  for (const key of Object.keys(styleAttributes)) {\n",
              "    element.style[key] = styleAttributes[key];\n",
              "  }\n",
              "  return element;\n",
              "}\n",
              "\n",
              "// Max number of bytes which will be uploaded at a time.\n",
              "const MAX_PAYLOAD_SIZE = 100 * 1024;\n",
              "\n",
              "function _uploadFiles(inputId, outputId) {\n",
              "  const steps = uploadFilesStep(inputId, outputId);\n",
              "  const outputElement = document.getElementById(outputId);\n",
              "  // Cache steps on the outputElement to make it available for the next call\n",
              "  // to uploadFilesContinue from Python.\n",
              "  outputElement.steps = steps;\n",
              "\n",
              "  return _uploadFilesContinue(outputId);\n",
              "}\n",
              "\n",
              "// This is roughly an async generator (not supported in the browser yet),\n",
              "// where there are multiple asynchronous steps and the Python side is going\n",
              "// to poll for completion of each step.\n",
              "// This uses a Promise to block the python side on completion of each step,\n",
              "// then passes the result of the previous step as the input to the next step.\n",
              "function _uploadFilesContinue(outputId) {\n",
              "  const outputElement = document.getElementById(outputId);\n",
              "  const steps = outputElement.steps;\n",
              "\n",
              "  const next = steps.next(outputElement.lastPromiseValue);\n",
              "  return Promise.resolve(next.value.promise).then((value) => {\n",
              "    // Cache the last promise value to make it available to the next\n",
              "    // step of the generator.\n",
              "    outputElement.lastPromiseValue = value;\n",
              "    return next.value.response;\n",
              "  });\n",
              "}\n",
              "\n",
              "/**\n",
              " * Generator function which is called between each async step of the upload\n",
              " * process.\n",
              " * @param {string} inputId Element ID of the input file picker element.\n",
              " * @param {string} outputId Element ID of the output display.\n",
              " * @return {!Iterable<!Object>} Iterable of next steps.\n",
              " */\n",
              "function* uploadFilesStep(inputId, outputId) {\n",
              "  const inputElement = document.getElementById(inputId);\n",
              "  inputElement.disabled = false;\n",
              "\n",
              "  const outputElement = document.getElementById(outputId);\n",
              "  outputElement.innerHTML = '';\n",
              "\n",
              "  const pickedPromise = new Promise((resolve) => {\n",
              "    inputElement.addEventListener('change', (e) => {\n",
              "      resolve(e.target.files);\n",
              "    });\n",
              "  });\n",
              "\n",
              "  const cancel = document.createElement('button');\n",
              "  inputElement.parentElement.appendChild(cancel);\n",
              "  cancel.textContent = 'Cancel upload';\n",
              "  const cancelPromise = new Promise((resolve) => {\n",
              "    cancel.onclick = () => {\n",
              "      resolve(null);\n",
              "    };\n",
              "  });\n",
              "\n",
              "  // Wait for the user to pick the files.\n",
              "  const files = yield {\n",
              "    promise: Promise.race([pickedPromise, cancelPromise]),\n",
              "    response: {\n",
              "      action: 'starting',\n",
              "    }\n",
              "  };\n",
              "\n",
              "  cancel.remove();\n",
              "\n",
              "  // Disable the input element since further picks are not allowed.\n",
              "  inputElement.disabled = true;\n",
              "\n",
              "  if (!files) {\n",
              "    return {\n",
              "      response: {\n",
              "        action: 'complete',\n",
              "      }\n",
              "    };\n",
              "  }\n",
              "\n",
              "  for (const file of files) {\n",
              "    const li = document.createElement('li');\n",
              "    li.append(span(file.name, {fontWeight: 'bold'}));\n",
              "    li.append(span(\n",
              "        `(${file.type || 'n/a'}) - ${file.size} bytes, ` +\n",
              "        `last modified: ${\n",
              "            file.lastModifiedDate ? file.lastModifiedDate.toLocaleDateString() :\n",
              "                                    'n/a'} - `));\n",
              "    const percent = span('0% done');\n",
              "    li.appendChild(percent);\n",
              "\n",
              "    outputElement.appendChild(li);\n",
              "\n",
              "    const fileDataPromise = new Promise((resolve) => {\n",
              "      const reader = new FileReader();\n",
              "      reader.onload = (e) => {\n",
              "        resolve(e.target.result);\n",
              "      };\n",
              "      reader.readAsArrayBuffer(file);\n",
              "    });\n",
              "    // Wait for the data to be ready.\n",
              "    let fileData = yield {\n",
              "      promise: fileDataPromise,\n",
              "      response: {\n",
              "        action: 'continue',\n",
              "      }\n",
              "    };\n",
              "\n",
              "    // Use a chunked sending to avoid message size limits. See b/62115660.\n",
              "    let position = 0;\n",
              "    do {\n",
              "      const length = Math.min(fileData.byteLength - position, MAX_PAYLOAD_SIZE);\n",
              "      const chunk = new Uint8Array(fileData, position, length);\n",
              "      position += length;\n",
              "\n",
              "      const base64 = btoa(String.fromCharCode.apply(null, chunk));\n",
              "      yield {\n",
              "        response: {\n",
              "          action: 'append',\n",
              "          file: file.name,\n",
              "          data: base64,\n",
              "        },\n",
              "      };\n",
              "\n",
              "      let percentDone = fileData.byteLength === 0 ?\n",
              "          100 :\n",
              "          Math.round((position / fileData.byteLength) * 100);\n",
              "      percent.textContent = `${percentDone}% done`;\n",
              "\n",
              "    } while (position < fileData.byteLength);\n",
              "  }\n",
              "\n",
              "  // All done.\n",
              "  yield {\n",
              "    response: {\n",
              "      action: 'complete',\n",
              "    }\n",
              "  };\n",
              "}\n",
              "\n",
              "scope.google = scope.google || {};\n",
              "scope.google.colab = scope.google.colab || {};\n",
              "scope.google.colab._files = {\n",
              "  _uploadFiles,\n",
              "  _uploadFilesContinue,\n",
              "};\n",
              "})(self);\n",
              "</script> "
            ]
          },
          "metadata": {}
        },
        {
          "output_type": "error",
          "ename": "KeyboardInterrupt",
          "evalue": "",
          "traceback": [
            "\u001b[0;31m---------------------------------------------------------------------------\u001b[0m",
            "\u001b[0;31mKeyboardInterrupt\u001b[0m                         Traceback (most recent call last)",
            "\u001b[0;32m<ipython-input-11-a67d564dcb3e>\u001b[0m in \u001b[0;36m<cell line: 4>\u001b[0;34m()\u001b[0m\n\u001b[1;32m      2\u001b[0m \u001b[0;32mfrom\u001b[0m \u001b[0mgoogle\u001b[0m\u001b[0;34m.\u001b[0m\u001b[0mcolab\u001b[0m \u001b[0;32mimport\u001b[0m \u001b[0mfiles\u001b[0m\u001b[0;34m\u001b[0m\u001b[0;34m\u001b[0m\u001b[0m\n\u001b[1;32m      3\u001b[0m \u001b[0;34m\u001b[0m\u001b[0m\n\u001b[0;32m----> 4\u001b[0;31m \u001b[0muploaded\u001b[0m \u001b[0;34m=\u001b[0m \u001b[0mfiles\u001b[0m\u001b[0;34m.\u001b[0m\u001b[0mupload\u001b[0m\u001b[0;34m(\u001b[0m\u001b[0;34m)\u001b[0m\u001b[0;34m\u001b[0m\u001b[0;34m\u001b[0m\u001b[0m\n\u001b[0m\u001b[1;32m      5\u001b[0m \u001b[0;34m\u001b[0m\u001b[0m\n\u001b[1;32m      6\u001b[0m \u001b[0;32mfor\u001b[0m \u001b[0mfn\u001b[0m \u001b[0;32min\u001b[0m \u001b[0muploaded\u001b[0m\u001b[0;34m.\u001b[0m\u001b[0mkeys\u001b[0m\u001b[0;34m(\u001b[0m\u001b[0;34m)\u001b[0m\u001b[0;34m:\u001b[0m\u001b[0;34m\u001b[0m\u001b[0;34m\u001b[0m\u001b[0m\n",
            "\u001b[0;32m/usr/local/lib/python3.10/dist-packages/google/colab/files.py\u001b[0m in \u001b[0;36mupload\u001b[0;34m()\u001b[0m\n\u001b[1;32m     67\u001b[0m   \"\"\"\n\u001b[1;32m     68\u001b[0m \u001b[0;34m\u001b[0m\u001b[0m\n\u001b[0;32m---> 69\u001b[0;31m   \u001b[0muploaded_files\u001b[0m \u001b[0;34m=\u001b[0m \u001b[0m_upload_files\u001b[0m\u001b[0;34m(\u001b[0m\u001b[0mmultiple\u001b[0m\u001b[0;34m=\u001b[0m\u001b[0;32mTrue\u001b[0m\u001b[0;34m)\u001b[0m\u001b[0;34m\u001b[0m\u001b[0;34m\u001b[0m\u001b[0m\n\u001b[0m\u001b[1;32m     70\u001b[0m   \u001b[0;31m# Mapping from original filename to filename as saved locally.\u001b[0m\u001b[0;34m\u001b[0m\u001b[0;34m\u001b[0m\u001b[0m\n\u001b[1;32m     71\u001b[0m   \u001b[0mlocal_filenames\u001b[0m \u001b[0;34m=\u001b[0m \u001b[0mdict\u001b[0m\u001b[0;34m(\u001b[0m\u001b[0;34m)\u001b[0m\u001b[0;34m\u001b[0m\u001b[0;34m\u001b[0m\u001b[0m\n",
            "\u001b[0;32m/usr/local/lib/python3.10/dist-packages/google/colab/files.py\u001b[0m in \u001b[0;36m_upload_files\u001b[0;34m(multiple)\u001b[0m\n\u001b[1;32m    154\u001b[0m \u001b[0;34m\u001b[0m\u001b[0m\n\u001b[1;32m    155\u001b[0m   \u001b[0;31m# First result is always an indication that the file picker has completed.\u001b[0m\u001b[0;34m\u001b[0m\u001b[0;34m\u001b[0m\u001b[0m\n\u001b[0;32m--> 156\u001b[0;31m   result = _output.eval_js(\n\u001b[0m\u001b[1;32m    157\u001b[0m       'google.colab._files._uploadFiles(\"{input_id}\", \"{output_id}\")'.format(\n\u001b[1;32m    158\u001b[0m           \u001b[0minput_id\u001b[0m\u001b[0;34m=\u001b[0m\u001b[0minput_id\u001b[0m\u001b[0;34m,\u001b[0m \u001b[0moutput_id\u001b[0m\u001b[0;34m=\u001b[0m\u001b[0moutput_id\u001b[0m\u001b[0;34m\u001b[0m\u001b[0;34m\u001b[0m\u001b[0m\n",
            "\u001b[0;32m/usr/local/lib/python3.10/dist-packages/google/colab/output/_js.py\u001b[0m in \u001b[0;36meval_js\u001b[0;34m(script, ignore_result, timeout_sec)\u001b[0m\n\u001b[1;32m     38\u001b[0m   \u001b[0;32mif\u001b[0m \u001b[0mignore_result\u001b[0m\u001b[0;34m:\u001b[0m\u001b[0;34m\u001b[0m\u001b[0;34m\u001b[0m\u001b[0m\n\u001b[1;32m     39\u001b[0m     \u001b[0;32mreturn\u001b[0m\u001b[0;34m\u001b[0m\u001b[0;34m\u001b[0m\u001b[0m\n\u001b[0;32m---> 40\u001b[0;31m   \u001b[0;32mreturn\u001b[0m \u001b[0m_message\u001b[0m\u001b[0;34m.\u001b[0m\u001b[0mread_reply_from_input\u001b[0m\u001b[0;34m(\u001b[0m\u001b[0mrequest_id\u001b[0m\u001b[0;34m,\u001b[0m \u001b[0mtimeout_sec\u001b[0m\u001b[0;34m)\u001b[0m\u001b[0;34m\u001b[0m\u001b[0;34m\u001b[0m\u001b[0m\n\u001b[0m\u001b[1;32m     41\u001b[0m \u001b[0;34m\u001b[0m\u001b[0m\n\u001b[1;32m     42\u001b[0m \u001b[0;34m\u001b[0m\u001b[0m\n",
            "\u001b[0;32m/usr/local/lib/python3.10/dist-packages/google/colab/_message.py\u001b[0m in \u001b[0;36mread_reply_from_input\u001b[0;34m(message_id, timeout_sec)\u001b[0m\n\u001b[1;32m     94\u001b[0m     \u001b[0mreply\u001b[0m \u001b[0;34m=\u001b[0m \u001b[0m_read_next_input_message\u001b[0m\u001b[0;34m(\u001b[0m\u001b[0;34m)\u001b[0m\u001b[0;34m\u001b[0m\u001b[0;34m\u001b[0m\u001b[0m\n\u001b[1;32m     95\u001b[0m     \u001b[0;32mif\u001b[0m \u001b[0mreply\u001b[0m \u001b[0;34m==\u001b[0m \u001b[0m_NOT_READY\u001b[0m \u001b[0;32mor\u001b[0m \u001b[0;32mnot\u001b[0m \u001b[0misinstance\u001b[0m\u001b[0;34m(\u001b[0m\u001b[0mreply\u001b[0m\u001b[0;34m,\u001b[0m \u001b[0mdict\u001b[0m\u001b[0;34m)\u001b[0m\u001b[0;34m:\u001b[0m\u001b[0;34m\u001b[0m\u001b[0;34m\u001b[0m\u001b[0m\n\u001b[0;32m---> 96\u001b[0;31m       \u001b[0mtime\u001b[0m\u001b[0;34m.\u001b[0m\u001b[0msleep\u001b[0m\u001b[0;34m(\u001b[0m\u001b[0;36m0.025\u001b[0m\u001b[0;34m)\u001b[0m\u001b[0;34m\u001b[0m\u001b[0;34m\u001b[0m\u001b[0m\n\u001b[0m\u001b[1;32m     97\u001b[0m       \u001b[0;32mcontinue\u001b[0m\u001b[0;34m\u001b[0m\u001b[0;34m\u001b[0m\u001b[0m\n\u001b[1;32m     98\u001b[0m     if (\n",
            "\u001b[0;31mKeyboardInterrupt\u001b[0m: "
          ]
        }
      ],
      "source": [
        "# this code cell has to be run in Colab environment\n",
        "from google.colab import files\n",
        "\n",
        "uploaded = files.upload()\n",
        "\n",
        "for fn in uploaded.keys():\n",
        "    print('User uploaded file \"{name}\" with length {length} bytes'.format(\n",
        "        name=fn, length=len(uploaded[fn])))"
      ]
    },
    {
      "cell_type": "markdown",
      "metadata": {
        "id": "0EMXg92V-m1d"
      },
      "source": [
        "### files.download will invoke a browser download of the file to your local computer."
      ]
    },
    {
      "cell_type": "code",
      "execution_count": null,
      "metadata": {
        "id": "cKIonJ-R-m1d"
      },
      "outputs": [],
      "source": [
        "from google.colab import files\n",
        "\n",
        "with open('example.txt', 'w') as f:\n",
        "    f.write('some content')\n",
        "\n",
        "files.download('example.txt')"
      ]
    },
    {
      "cell_type": "markdown",
      "metadata": {
        "id": "2VPrifZz-m1d"
      },
      "source": [
        "### Mounting Google Drive locally\n",
        "You can mount your Google Drive in the notebook and use all of the files available there."
      ]
    },
    {
      "cell_type": "code",
      "execution_count": null,
      "metadata": {
        "id": "csW6aGzm-m1d"
      },
      "outputs": [],
      "source": [
        "from google.colab import drive\n",
        "drive.mount('/content/drive') # this will trigger permission prompts"
      ]
    },
    {
      "cell_type": "code",
      "execution_count": null,
      "metadata": {
        "id": "iHIToHgO-m1d"
      },
      "outputs": [],
      "source": [
        "with open('/content/drive/My Drive/foo.txt', 'w') as f:\n",
        "    f.write('Hello Google Drive!')\n",
        "!ls /content/drive/My\\ Drive/ | wc -l"
      ]
    },
    {
      "cell_type": "code",
      "execution_count": null,
      "metadata": {
        "id": "QRhgd9Yx-m1e"
      },
      "outputs": [],
      "source": [
        "drive.flush_and_unmount()\n",
        "print('All changes made in this colab session should now be visible in Drive.')"
      ]
    },
    {
      "cell_type": "code",
      "execution_count": null,
      "metadata": {
        "id": "PF7Isij1-m1e"
      },
      "outputs": [],
      "source": [
        "!pip3 freeze # contains a lot of pre-installed packages"
      ]
    },
    {
      "cell_type": "markdown",
      "metadata": {
        "id": "6MnuxOiw-m1e"
      },
      "source": [
        "References:\n",
        "- Colab guides and examples : https://colab.research.google.com/notebooks/intro.ipynb?hl=en\n",
        "- Integration with GitHub: https://colab.research.google.com/github/googlecolab/colabtools/blob/master/notebooks/colab-github-demo.ipynb#scrollTo=WzIRIt9d2huC\n",
        "- External data handling: https://colab.research.google.com/notebooks/io.ipynb#scrollTo=G5IVmR8S9SeF"
      ]
    },
    {
      "cell_type": "markdown",
      "metadata": {
        "id": "FFg3aoKu-m1e"
      },
      "source": [
        "-----\n",
        "\n",
        "## Python tutorials\n",
        "\n",
        "* Go through this [Notebook](../exercises/python_intro.ipynb) with elementary Python syntax.\n",
        "\n",
        "* [An Informal Introduction to Python](https://docs.python.org/3/tutorial/introduction.html)\n",
        "\n",
        "* [Python for Beginners](https://www.python.org/about/gettingstarted/)\n",
        "\n",
        "* [Learn Python in 10 minutes](https://www.stavros.io/tutorials/python/)\n",
        "\n",
        "* [LOADS of others](https://www.google.co.uk/search?q=python+tutorial)"
      ]
    },
    {
      "cell_type": "markdown",
      "metadata": {
        "jp-MarkdownHeadingCollapsed": true,
        "tags": [],
        "id": "6GWdZAHW-m1e"
      },
      "source": [
        "-----\n",
        "\n",
        "## stat-nlp-book setup\n",
        "\n",
        "### On your personal computer\n",
        "\n",
        "Go to https://github.com/coastalcph/nlp-course/blob/master/INSTALL.md and follow the readme to set up the stat-nlp-book.\n",
        "\n",
        "### On Microsoft Azure\n",
        "\n",
        "If you feel adventurous, and want to set up your own Virtual Machine with stat-nlp-book, follow the [Azure tutorial](../tutorials/azure_tutorial.ipynb)"
      ]
    },
    {
      "cell_type": "markdown",
      "metadata": {
        "id": "QFdZmbWV-m1e"
      },
      "source": [
        "## Additional Info\n",
        "\n",
        "### Docker commands\n",
        "* Get a list of the currently running containers <br>\n",
        "<code>docker ps -q</code> <br>\n",
        "* Run shell commands in your container by first getting the id of the container with above command and then: <br>\n",
        "<code>docker exec -it _container-id_ _command_</code> <br>\n",
        "e.g. <code>docker exec -it 8c16b8de4771 python --version</code>\n",
        "\n",
        "\n",
        "### Managing your changes\n",
        "\n",
        "There are several ways to keep your changes within the official repo organised. Some of them are:\n",
        "* Create your own [fork](https://help.github.com/en/articles/fork-a-repo)\n",
        "of the repo. The fork can be [synced](https://help.github.com/en/articles/syncing-a-fork?query=f) with the official course repo when new changes are available. Meanwhile, you can also maintain your changes in your forked repo.\n",
        "* Another option is to keep your changes only in a local branch (<code>git checkout -b _your-branch-name_</code>) on your computer. Each time there is a change in the course repo, you can pull the repo and merge the changes in your branch (<code>git merge origin/master</code>)"
      ]
    },
    {
      "cell_type": "markdown",
      "metadata": {
        "id": "t3WL3vrf-m1e"
      },
      "source": [
        "----\n",
        "\n",
        "## Tokenisation"
      ]
    },
    {
      "cell_type": "markdown",
      "metadata": {
        "id": "pVftskxS-m1f"
      },
      "source": [
        "Tokenisation is an important pre-processing step for NLP models.\n",
        "\n",
        "You can tokenise text at different levels - split to sentences, tokens, subwords, etc.\n",
        "\n",
        "There are a lot of corner cases, language-specific and/or domain-specific cases, which have to handled in different ways.\n"
      ]
    },
    {
      "cell_type": "code",
      "execution_count": null,
      "metadata": {
        "id": "ninreISH-m1f",
        "outputId": "c3ea51cb-8a3f-4a24-f43a-681f1d522a94"
      },
      "outputs": [
        {
          "data": {
            "text/plain": [
              "['The office is open between 10 a',\n",
              " '.',\n",
              " 'm',\n",
              " '.',\n",
              " ' and 1 p',\n",
              " '.',\n",
              " 'm',\n",
              " '.',\n",
              " ' every day',\n",
              " '.',\n",
              " '',\n",
              " '.',\n",
              " '',\n",
              " '.',\n",
              " ' Please, be respective of the hours',\n",
              " '.',\n",
              " '']"
            ]
          },
          "execution_count": 10,
          "metadata": {},
          "output_type": "execute_result"
        }
      ],
      "source": [
        "import re\n",
        "\n",
        "text_sentences = \"The office is open between 10 a.m. and 1 p.m. every day... Please, be respective of the hours.\"\n",
        "re.split('(\\.|!|\\?)', text_sentences)"
      ]
    },
    {
      "cell_type": "markdown",
      "metadata": {
        "id": "bJ4nPKep-m1f"
      },
      "source": [
        "Luckily, there are libraries providing tokenisation functionalities that handle most of the cases. Let's look two of the most common libraries for tokenisation:\n",
        "\n",
        "### Spacy"
      ]
    },
    {
      "cell_type": "code",
      "execution_count": null,
      "metadata": {
        "id": "bHuK2Hx--m1f",
        "outputId": "cb88d7ab-1d32-45d5-a101-249142cb5860"
      },
      "outputs": [
        {
          "name": "stdout",
          "output_type": "stream",
          "text": [
            "\u001b[33mWARNING: Ignoring invalid distribution -ornado (/Users/tks522/opt/anaconda3/lib/python3.7/site-packages)\u001b[0m\u001b[33m\n",
            "\u001b[0m\u001b[33mWARNING: Ignoring invalid distribution -ornado (/Users/tks522/opt/anaconda3/lib/python3.7/site-packages)\u001b[0m\u001b[33m\n",
            "\u001b[0mCollecting en-core-web-sm==3.2.0\n",
            "  Downloading https://github.com/explosion/spacy-models/releases/download/en_core_web_sm-3.2.0/en_core_web_sm-3.2.0-py3-none-any.whl (13.9 MB)\n",
            "\u001b[2K     \u001b[90m━━━━━━━━━━━━━━━━━━━━━━━━━━━━━━━━━━━━━━━━\u001b[0m \u001b[32m13.9/13.9 MB\u001b[0m \u001b[31m20.2 MB/s\u001b[0m eta \u001b[36m0:00:00\u001b[0m00:01\u001b[0m00:01\u001b[0m\n",
            "\u001b[?25hRequirement already satisfied: spacy<3.3.0,>=3.2.0 in /Users/tks522/opt/anaconda3/lib/python3.7/site-packages (from en-core-web-sm==3.2.0) (3.2.0)\n",
            "Requirement already satisfied: typing-extensions<4.0.0.0,>=3.7.4 in /Users/tks522/opt/anaconda3/lib/python3.7/site-packages (from spacy<3.3.0,>=3.2.0->en-core-web-sm==3.2.0) (3.7.4.3)\n",
            "Requirement already satisfied: numpy>=1.15.0 in /Users/tks522/opt/anaconda3/lib/python3.7/site-packages (from spacy<3.3.0,>=3.2.0->en-core-web-sm==3.2.0) (1.20.1)\n",
            "Requirement already satisfied: cymem<2.1.0,>=2.0.2 in /Users/tks522/opt/anaconda3/lib/python3.7/site-packages (from spacy<3.3.0,>=3.2.0->en-core-web-sm==3.2.0) (2.0.3)\n",
            "Requirement already satisfied: requests<3.0.0,>=2.13.0 in /Users/tks522/opt/anaconda3/lib/python3.7/site-packages (from spacy<3.3.0,>=3.2.0->en-core-web-sm==3.2.0) (2.22.0)\n",
            "Requirement already satisfied: typer<0.5.0,>=0.3.0 in /Users/tks522/opt/anaconda3/lib/python3.7/site-packages (from spacy<3.3.0,>=3.2.0->en-core-web-sm==3.2.0) (0.4.0)\n",
            "Requirement already satisfied: preshed<3.1.0,>=3.0.2 in /Users/tks522/opt/anaconda3/lib/python3.7/site-packages (from spacy<3.3.0,>=3.2.0->en-core-web-sm==3.2.0) (3.0.6)\n",
            "Requirement already satisfied: wasabi<1.1.0,>=0.8.1 in /Users/tks522/opt/anaconda3/lib/python3.7/site-packages (from spacy<3.3.0,>=3.2.0->en-core-web-sm==3.2.0) (0.9.0)\n",
            "Requirement already satisfied: setuptools in /Users/tks522/opt/anaconda3/lib/python3.7/site-packages (from spacy<3.3.0,>=3.2.0->en-core-web-sm==3.2.0) (60.5.0)\n",
            "Requirement already satisfied: pathy>=0.3.5 in /Users/tks522/opt/anaconda3/lib/python3.7/site-packages (from spacy<3.3.0,>=3.2.0->en-core-web-sm==3.2.0) (0.6.1)\n",
            "Requirement already satisfied: murmurhash<1.1.0,>=0.28.0 in /Users/tks522/opt/anaconda3/lib/python3.7/site-packages (from spacy<3.3.0,>=3.2.0->en-core-web-sm==3.2.0) (1.0.2)\n",
            "Requirement already satisfied: spacy-legacy<3.1.0,>=3.0.8 in /Users/tks522/opt/anaconda3/lib/python3.7/site-packages (from spacy<3.3.0,>=3.2.0->en-core-web-sm==3.2.0) (3.0.8)\n",
            "Requirement already satisfied: thinc<8.1.0,>=8.0.12 in /Users/tks522/opt/anaconda3/lib/python3.7/site-packages (from spacy<3.3.0,>=3.2.0->en-core-web-sm==3.2.0) (8.0.13)\n",
            "Requirement already satisfied: pydantic!=1.8,!=1.8.1,<1.9.0,>=1.7.4 in /Users/tks522/opt/anaconda3/lib/python3.7/site-packages (from spacy<3.3.0,>=3.2.0->en-core-web-sm==3.2.0) (1.8.2)\n",
            "Requirement already satisfied: langcodes<4.0.0,>=3.2.0 in /Users/tks522/opt/anaconda3/lib/python3.7/site-packages (from spacy<3.3.0,>=3.2.0->en-core-web-sm==3.2.0) (3.3.0)\n",
            "Requirement already satisfied: jinja2 in /Users/tks522/opt/anaconda3/lib/python3.7/site-packages (from spacy<3.3.0,>=3.2.0->en-core-web-sm==3.2.0) (2.11.1)\n",
            "Requirement already satisfied: blis<0.8.0,>=0.4.0 in /Users/tks522/opt/anaconda3/lib/python3.7/site-packages (from spacy<3.3.0,>=3.2.0->en-core-web-sm==3.2.0) (0.7.5)\n",
            "Requirement already satisfied: spacy-loggers<2.0.0,>=1.0.0 in /Users/tks522/opt/anaconda3/lib/python3.7/site-packages (from spacy<3.3.0,>=3.2.0->en-core-web-sm==3.2.0) (1.0.1)\n",
            "Requirement already satisfied: catalogue<2.1.0,>=2.0.6 in /Users/tks522/opt/anaconda3/lib/python3.7/site-packages (from spacy<3.3.0,>=3.2.0->en-core-web-sm==3.2.0) (2.0.6)\n",
            "Requirement already satisfied: srsly<3.0.0,>=2.4.1 in /Users/tks522/opt/anaconda3/lib/python3.7/site-packages (from spacy<3.3.0,>=3.2.0->en-core-web-sm==3.2.0) (2.4.2)\n",
            "Requirement already satisfied: packaging>=20.0 in /Users/tks522/opt/anaconda3/lib/python3.7/site-packages (from spacy<3.3.0,>=3.2.0->en-core-web-sm==3.2.0) (20.1)\n",
            "Requirement already satisfied: tqdm<5.0.0,>=4.38.0 in /Users/tks522/opt/anaconda3/lib/python3.7/site-packages (from spacy<3.3.0,>=3.2.0->en-core-web-sm==3.2.0) (4.42.1)\n",
            "Requirement already satisfied: zipp>=0.5 in /Users/tks522/opt/anaconda3/lib/python3.7/site-packages (from catalogue<2.1.0,>=2.0.6->spacy<3.3.0,>=3.2.0->en-core-web-sm==3.2.0) (2.2.0)\n",
            "Requirement already satisfied: six in /Users/tks522/opt/anaconda3/lib/python3.7/site-packages (from packaging>=20.0->spacy<3.3.0,>=3.2.0->en-core-web-sm==3.2.0) (1.14.0)\n",
            "Requirement already satisfied: pyparsing>=2.0.2 in /Users/tks522/opt/anaconda3/lib/python3.7/site-packages (from packaging>=20.0->spacy<3.3.0,>=3.2.0->en-core-web-sm==3.2.0) (2.4.6)\n",
            "Requirement already satisfied: smart-open<6.0.0,>=5.0.0 in /Users/tks522/opt/anaconda3/lib/python3.7/site-packages (from pathy>=0.3.5->spacy<3.3.0,>=3.2.0->en-core-web-sm==3.2.0) (5.2.1)\n",
            "Requirement already satisfied: certifi>=2017.4.17 in /Users/tks522/opt/anaconda3/lib/python3.7/site-packages (from requests<3.0.0,>=2.13.0->spacy<3.3.0,>=3.2.0->en-core-web-sm==3.2.0) (2019.11.28)\n",
            "Requirement already satisfied: chardet<3.1.0,>=3.0.2 in /Users/tks522/opt/anaconda3/lib/python3.7/site-packages (from requests<3.0.0,>=2.13.0->spacy<3.3.0,>=3.2.0->en-core-web-sm==3.2.0) (3.0.4)\n",
            "Requirement already satisfied: urllib3!=1.25.0,!=1.25.1,<1.26,>=1.21.1 in /Users/tks522/opt/anaconda3/lib/python3.7/site-packages (from requests<3.0.0,>=2.13.0->spacy<3.3.0,>=3.2.0->en-core-web-sm==3.2.0) (1.25.8)\n",
            "Requirement already satisfied: idna<2.9,>=2.5 in /Users/tks522/opt/anaconda3/lib/python3.7/site-packages (from requests<3.0.0,>=2.13.0->spacy<3.3.0,>=3.2.0->en-core-web-sm==3.2.0) (2.8)\n",
            "Requirement already satisfied: click<9.0.0,>=7.1.1 in /Users/tks522/opt/anaconda3/lib/python3.7/site-packages (from typer<0.5.0,>=0.3.0->spacy<3.3.0,>=3.2.0->en-core-web-sm==3.2.0) (8.0.3)\n",
            "Requirement already satisfied: MarkupSafe>=0.23 in /Users/tks522/opt/anaconda3/lib/python3.7/site-packages (from jinja2->spacy<3.3.0,>=3.2.0->en-core-web-sm==3.2.0) (1.1.1)\n",
            "Requirement already satisfied: importlib-metadata in /Users/tks522/opt/anaconda3/lib/python3.7/site-packages (from click<9.0.0,>=7.1.1->typer<0.5.0,>=0.3.0->spacy<3.3.0,>=3.2.0->en-core-web-sm==3.2.0) (1.5.0)\n",
            "\u001b[33mWARNING: Ignoring invalid distribution -ornado (/Users/tks522/opt/anaconda3/lib/python3.7/site-packages)\u001b[0m\u001b[33m\n",
            "\u001b[0m\u001b[33mWARNING: Ignoring invalid distribution -ornado (/Users/tks522/opt/anaconda3/lib/python3.7/site-packages)\u001b[0m\u001b[33m\n",
            "\u001b[0m\u001b[33mWARNING: Ignoring invalid distribution -ornado (/Users/tks522/opt/anaconda3/lib/python3.7/site-packages)\u001b[0m\u001b[33m\n",
            "\u001b[0m\u001b[33mWARNING: Ignoring invalid distribution -ornado (/Users/tks522/opt/anaconda3/lib/python3.7/site-packages)\u001b[0m\u001b[33m\n",
            "\u001b[0m\u001b[38;5;2m✔ Download and installation successful\u001b[0m\n",
            "You can now load the package via spacy.load('en_core_web_sm')\n",
            "\u001b[33mWARNING: Ignoring invalid distribution -ornado (/Users/tks522/opt/anaconda3/lib/python3.7/site-packages)\u001b[0m\u001b[33m\n",
            "\u001b[0m\u001b[33mWARNING: Ignoring invalid distribution -ornado (/Users/tks522/opt/anaconda3/lib/python3.7/site-packages)\u001b[0m\u001b[33m\n",
            "\u001b[0mCollecting fr-core-news-sm==3.2.0\n",
            "  Downloading https://github.com/explosion/spacy-models/releases/download/fr_core_news_sm-3.2.0/fr_core_news_sm-3.2.0-py3-none-any.whl (17.4 MB)\n",
            "\u001b[2K     \u001b[90m━━━━━━━━━━━━━━━━━━━━━━━━━━━━━━━━━━━━━━━━\u001b[0m \u001b[32m17.4/17.4 MB\u001b[0m \u001b[31m33.2 MB/s\u001b[0m eta \u001b[36m0:00:00\u001b[0m00:01\u001b[0m00:01\u001b[0m\n",
            "\u001b[?25hRequirement already satisfied: spacy<3.3.0,>=3.2.0 in /Users/tks522/opt/anaconda3/lib/python3.7/site-packages (from fr-core-news-sm==3.2.0) (3.2.0)\n",
            "Requirement already satisfied: spacy-loggers<2.0.0,>=1.0.0 in /Users/tks522/opt/anaconda3/lib/python3.7/site-packages (from spacy<3.3.0,>=3.2.0->fr-core-news-sm==3.2.0) (1.0.1)\n",
            "Requirement already satisfied: srsly<3.0.0,>=2.4.1 in /Users/tks522/opt/anaconda3/lib/python3.7/site-packages (from spacy<3.3.0,>=3.2.0->fr-core-news-sm==3.2.0) (2.4.2)\n",
            "Requirement already satisfied: langcodes<4.0.0,>=3.2.0 in /Users/tks522/opt/anaconda3/lib/python3.7/site-packages (from spacy<3.3.0,>=3.2.0->fr-core-news-sm==3.2.0) (3.3.0)\n",
            "Requirement already satisfied: preshed<3.1.0,>=3.0.2 in /Users/tks522/opt/anaconda3/lib/python3.7/site-packages (from spacy<3.3.0,>=3.2.0->fr-core-news-sm==3.2.0) (3.0.6)\n",
            "Requirement already satisfied: blis<0.8.0,>=0.4.0 in /Users/tks522/opt/anaconda3/lib/python3.7/site-packages (from spacy<3.3.0,>=3.2.0->fr-core-news-sm==3.2.0) (0.7.5)\n",
            "Requirement already satisfied: numpy>=1.15.0 in /Users/tks522/opt/anaconda3/lib/python3.7/site-packages (from spacy<3.3.0,>=3.2.0->fr-core-news-sm==3.2.0) (1.20.1)\n",
            "Requirement already satisfied: packaging>=20.0 in /Users/tks522/opt/anaconda3/lib/python3.7/site-packages (from spacy<3.3.0,>=3.2.0->fr-core-news-sm==3.2.0) (20.1)\n",
            "Requirement already satisfied: pydantic!=1.8,!=1.8.1,<1.9.0,>=1.7.4 in /Users/tks522/opt/anaconda3/lib/python3.7/site-packages (from spacy<3.3.0,>=3.2.0->fr-core-news-sm==3.2.0) (1.8.2)\n",
            "Requirement already satisfied: jinja2 in /Users/tks522/opt/anaconda3/lib/python3.7/site-packages (from spacy<3.3.0,>=3.2.0->fr-core-news-sm==3.2.0) (2.11.1)\n",
            "Requirement already satisfied: cymem<2.1.0,>=2.0.2 in /Users/tks522/opt/anaconda3/lib/python3.7/site-packages (from spacy<3.3.0,>=3.2.0->fr-core-news-sm==3.2.0) (2.0.3)\n",
            "Requirement already satisfied: thinc<8.1.0,>=8.0.12 in /Users/tks522/opt/anaconda3/lib/python3.7/site-packages (from spacy<3.3.0,>=3.2.0->fr-core-news-sm==3.2.0) (8.0.13)\n",
            "Requirement already satisfied: typer<0.5.0,>=0.3.0 in /Users/tks522/opt/anaconda3/lib/python3.7/site-packages (from spacy<3.3.0,>=3.2.0->fr-core-news-sm==3.2.0) (0.4.0)\n",
            "Requirement already satisfied: typing-extensions<4.0.0.0,>=3.7.4 in /Users/tks522/opt/anaconda3/lib/python3.7/site-packages (from spacy<3.3.0,>=3.2.0->fr-core-news-sm==3.2.0) (3.7.4.3)\n",
            "Requirement already satisfied: catalogue<2.1.0,>=2.0.6 in /Users/tks522/opt/anaconda3/lib/python3.7/site-packages (from spacy<3.3.0,>=3.2.0->fr-core-news-sm==3.2.0) (2.0.6)\n",
            "Requirement already satisfied: murmurhash<1.1.0,>=0.28.0 in /Users/tks522/opt/anaconda3/lib/python3.7/site-packages (from spacy<3.3.0,>=3.2.0->fr-core-news-sm==3.2.0) (1.0.2)\n",
            "Requirement already satisfied: pathy>=0.3.5 in /Users/tks522/opt/anaconda3/lib/python3.7/site-packages (from spacy<3.3.0,>=3.2.0->fr-core-news-sm==3.2.0) (0.6.1)\n",
            "Requirement already satisfied: tqdm<5.0.0,>=4.38.0 in /Users/tks522/opt/anaconda3/lib/python3.7/site-packages (from spacy<3.3.0,>=3.2.0->fr-core-news-sm==3.2.0) (4.42.1)\n",
            "Requirement already satisfied: requests<3.0.0,>=2.13.0 in /Users/tks522/opt/anaconda3/lib/python3.7/site-packages (from spacy<3.3.0,>=3.2.0->fr-core-news-sm==3.2.0) (2.22.0)\n",
            "Requirement already satisfied: setuptools in /Users/tks522/opt/anaconda3/lib/python3.7/site-packages (from spacy<3.3.0,>=3.2.0->fr-core-news-sm==3.2.0) (60.5.0)\n",
            "Requirement already satisfied: spacy-legacy<3.1.0,>=3.0.8 in /Users/tks522/opt/anaconda3/lib/python3.7/site-packages (from spacy<3.3.0,>=3.2.0->fr-core-news-sm==3.2.0) (3.0.8)\n",
            "Requirement already satisfied: wasabi<1.1.0,>=0.8.1 in /Users/tks522/opt/anaconda3/lib/python3.7/site-packages (from spacy<3.3.0,>=3.2.0->fr-core-news-sm==3.2.0) (0.9.0)\n",
            "Requirement already satisfied: zipp>=0.5 in /Users/tks522/opt/anaconda3/lib/python3.7/site-packages (from catalogue<2.1.0,>=2.0.6->spacy<3.3.0,>=3.2.0->fr-core-news-sm==3.2.0) (2.2.0)\n",
            "Requirement already satisfied: six in /Users/tks522/opt/anaconda3/lib/python3.7/site-packages (from packaging>=20.0->spacy<3.3.0,>=3.2.0->fr-core-news-sm==3.2.0) (1.14.0)\n",
            "Requirement already satisfied: pyparsing>=2.0.2 in /Users/tks522/opt/anaconda3/lib/python3.7/site-packages (from packaging>=20.0->spacy<3.3.0,>=3.2.0->fr-core-news-sm==3.2.0) (2.4.6)\n",
            "Requirement already satisfied: smart-open<6.0.0,>=5.0.0 in /Users/tks522/opt/anaconda3/lib/python3.7/site-packages (from pathy>=0.3.5->spacy<3.3.0,>=3.2.0->fr-core-news-sm==3.2.0) (5.2.1)\n",
            "Requirement already satisfied: chardet<3.1.0,>=3.0.2 in /Users/tks522/opt/anaconda3/lib/python3.7/site-packages (from requests<3.0.0,>=2.13.0->spacy<3.3.0,>=3.2.0->fr-core-news-sm==3.2.0) (3.0.4)\n",
            "Requirement already satisfied: idna<2.9,>=2.5 in /Users/tks522/opt/anaconda3/lib/python3.7/site-packages (from requests<3.0.0,>=2.13.0->spacy<3.3.0,>=3.2.0->fr-core-news-sm==3.2.0) (2.8)\n",
            "Requirement already satisfied: urllib3!=1.25.0,!=1.25.1,<1.26,>=1.21.1 in /Users/tks522/opt/anaconda3/lib/python3.7/site-packages (from requests<3.0.0,>=2.13.0->spacy<3.3.0,>=3.2.0->fr-core-news-sm==3.2.0) (1.25.8)\n",
            "Requirement already satisfied: certifi>=2017.4.17 in /Users/tks522/opt/anaconda3/lib/python3.7/site-packages (from requests<3.0.0,>=2.13.0->spacy<3.3.0,>=3.2.0->fr-core-news-sm==3.2.0) (2019.11.28)\n",
            "Requirement already satisfied: click<9.0.0,>=7.1.1 in /Users/tks522/opt/anaconda3/lib/python3.7/site-packages (from typer<0.5.0,>=0.3.0->spacy<3.3.0,>=3.2.0->fr-core-news-sm==3.2.0) (8.0.3)\n",
            "Requirement already satisfied: MarkupSafe>=0.23 in /Users/tks522/opt/anaconda3/lib/python3.7/site-packages (from jinja2->spacy<3.3.0,>=3.2.0->fr-core-news-sm==3.2.0) (1.1.1)\n",
            "Requirement already satisfied: importlib-metadata in /Users/tks522/opt/anaconda3/lib/python3.7/site-packages (from click<9.0.0,>=7.1.1->typer<0.5.0,>=0.3.0->spacy<3.3.0,>=3.2.0->fr-core-news-sm==3.2.0) (1.5.0)\n",
            "\u001b[33mWARNING: Ignoring invalid distribution -ornado (/Users/tks522/opt/anaconda3/lib/python3.7/site-packages)\u001b[0m\u001b[33m\n",
            "\u001b[0m\u001b[33mWARNING: Ignoring invalid distribution -ornado (/Users/tks522/opt/anaconda3/lib/python3.7/site-packages)\u001b[0m\u001b[33m\n",
            "\u001b[0m\u001b[33mWARNING: Ignoring invalid distribution -ornado (/Users/tks522/opt/anaconda3/lib/python3.7/site-packages)\u001b[0m\u001b[33m\n",
            "\u001b[0m\u001b[33mWARNING: Ignoring invalid distribution -ornado (/Users/tks522/opt/anaconda3/lib/python3.7/site-packages)\u001b[0m\u001b[33m\n",
            "\u001b[0m\u001b[38;5;2m✔ Download and installation successful\u001b[0m\n",
            "You can now load the package via spacy.load('fr_core_news_sm')\n"
          ]
        }
      ],
      "source": [
        "# download the language models, this can be done for other languages as well\n",
        "!python -m spacy download en_core_web_sm # You might have to restart the notebook if the file cannot be found\n",
        "!python -m spacy download fr_core_news_sm"
      ]
    },
    {
      "cell_type": "code",
      "execution_count": null,
      "metadata": {
        "id": "82u7l37m-m1g",
        "outputId": "2ef017fc-a0de-4251-b718-baf50ec96585"
      },
      "outputs": [
        {
          "data": {
            "text/plain": [
              "[The office is open between 10 a.m. and 1 p.m. every day...,\n",
              " Please, be respective of the hours.]"
            ]
          },
          "execution_count": 12,
          "metadata": {},
          "output_type": "execute_result"
        }
      ],
      "source": [
        "import spacy\n",
        "\n",
        "nlp = spacy.load(\"en_core_web_sm\")\n",
        "doc = nlp(text_sentences)\n",
        "list(doc.sents)"
      ]
    },
    {
      "cell_type": "markdown",
      "metadata": {
        "id": "qksVYJ1f-m1g"
      },
      "source": [
        "### NLTK"
      ]
    },
    {
      "cell_type": "code",
      "execution_count": null,
      "metadata": {
        "id": "LroigYY5-m1g",
        "outputId": "c8146901-1037-49eb-bf64-02df3ba3e8af"
      },
      "outputs": [
        {
          "data": {
            "text/plain": [
              "['The office is open between 10 a.m. and 1 p.m. every day...',\n",
              " 'Please, be respective of the hours.']"
            ]
          },
          "execution_count": 13,
          "metadata": {},
          "output_type": "execute_result"
        }
      ],
      "source": [
        "import nltk\n",
        "\n",
        "nltk.tokenize.sent_tokenize(text_sentences)"
      ]
    },
    {
      "cell_type": "markdown",
      "metadata": {
        "id": "4oCE9Psc-m1g"
      },
      "source": [
        "#### Word-level tokenisation"
      ]
    },
    {
      "cell_type": "code",
      "execution_count": null,
      "metadata": {
        "id": "X0-uNvuh-m1g",
        "outputId": "8a004cc9-899c-40f3-e57c-100965abf339"
      },
      "outputs": [
        {
          "name": "stdout",
          "output_type": "stream",
          "text": [
            "Common English tokenisation\n",
            "['Mr.', \"O'Neill\", 'thinks', 'that', 'the', 'boys', \"'\", 'stories', 'about', 'Chile', \"'s\", 'capital', 'are', \"n't\", 'amusing', '...', 'Good', 'muffins', 'cost', '$', '3.88', 'in', 'New', 'York', '.', 'Please', 'buy', 'me', 'two', 'of', 'them', '!', '!', '!', 'Thanks..']\n",
            "['Mr.', \"O'Neill\", 'thinks', 'that', 'the', 'boys', \"'\", 'stories', 'about', 'Chile', \"'s\", 'capital', 'are', \"n't\", 'amusing', '...', 'Good', 'muffins', 'cost', '$', '3.88', 'in', 'New', 'York', '.', 'Please', 'buy', 'me', 'two', 'of', 'them', '!', '!', '!', 'Thanks', '..']\n",
            "\n",
            "Tweet tokenisation\n",
            "['https', ':', '//t.co/9z2J3P33Uc', 'Hey', '@', 'NLPer', '!', 'This', 'is', 'a', '#', 'NLProc', 'tweet', ':', '-D']\n",
            "['https://t.co/9z2J3P33Uc', 'Hey', '@NLPer', '!', 'This', 'is', 'a', '#', 'NLProc', 'tweet', ':-D']\n",
            "\n",
            "Tokenisation of a noisy tweet\n",
            "['UserAnonym123', 'What', \"'s\", 'your', 'timezone_', '!', '@', '#', '!', '@', '#', '$', '%', '^', '&', '*', '(', ')', '_+', '0123456']\n",
            "['UserAnonym123', 'What', \"'s\", 'your', 'timezone_!@', '#', '!', '@#$%^&*()_+', '0123456']\n"
          ]
        }
      ],
      "source": [
        "text = \"Mr. O'Neill thinks that the boys' stories about Chile's capital aren't amusing... Good muffins cost $3.88 in New York. Please buy me two of them!!! Thanks..\"\n",
        "text_tweet = \"https://t.co/9z2J3P33Uc Hey @NLPer! This is a #NLProc tweet :-D\"\n",
        "noisy_tweet = \"UserAnonym123 What's your timezone_!@# !@#$%^&*()_+ 0123456\"\n",
        "\n",
        "print('Common English tokenisation')\n",
        "print(nltk.word_tokenize(text))\n",
        "print([token.text for token in nlp(text)])\n",
        "\n",
        "print('\\nTweet tokenisation')\n",
        "print(nltk.word_tokenize(text_tweet))\n",
        "print([token.text for token in nlp(text_tweet)])\n",
        "\n",
        "print('\\nTokenisation of a noisy tweet')\n",
        "print(nltk.word_tokenize(noisy_tweet))\n",
        "print([token.text for token in nlp(noisy_tweet)])"
      ]
    },
    {
      "cell_type": "markdown",
      "metadata": {
        "id": "1GGOBqn2-m1g"
      },
      "source": [
        "Both libraries perform almost similar for tokenising English common text, so it depends which library you'll use for other features.\n",
        "\n",
        "When it comes to tweets, the nltk default tokeniser performs bad, but NLTK also provides the TweetTokenizer that is suited for tweet tokenisation."
      ]
    },
    {
      "cell_type": "code",
      "execution_count": null,
      "metadata": {
        "id": "U8DZqQtG-m1g",
        "outputId": "e00ccfa2-9fcc-4840-fe72-839c3055480d"
      },
      "outputs": [
        {
          "name": "stdout",
          "output_type": "stream",
          "text": [
            "['https://t.co/9z2J3P33Uc', 'Hey', '@NLPer', '!', 'This', 'is', 'a', '#NLProc', 'tweet', ':-D']\n",
            "['UserAnonym', '123', \"What's\", 'your', 'timezone', '_', '!', '@', '#', '!', '@', '#', '$', '%', '^', '&', '*', '(', ')', '_', '+', '0123456']\n"
          ]
        }
      ],
      "source": [
        "tweet_tokenizer = nltk.tokenize.TweetTokenizer()\n",
        "print(tweet_tokenizer.tokenize(text_tweet))\n",
        "print(tweet_tokenizer.tokenize(noisy_tweet))"
      ]
    },
    {
      "cell_type": "markdown",
      "metadata": {
        "id": "wYbV4hMC-m1g"
      },
      "source": [
        "As you saw, the above tokenisers tokenise negation contractions like \"are\", \"n't\", which is per the the Penn Treebank guidelines. Such tokenisation can be useful when building sentiment classification or information extraction.\n",
        "\n",
        "Question:\n",
        "- How should we split \"I bought a 12-ft boat!\"? In 1, 2, or 3 tokens?\n",
        "- How should we tokenise \"It is a 2850m distance flight.\", \"The maximum speed on the autobahn is 130km/h.\"?\n",
        "\n",
        "There is again a rule that units are split from numerical values. Let's test the performance of the tokenisers:"
      ]
    },
    {
      "cell_type": "code",
      "execution_count": null,
      "metadata": {
        "id": "l6dyD4cB-m1g",
        "outputId": "00eaf223-38cb-4e66-c4a7-eb454074a4df"
      },
      "outputs": [
        {
          "name": "stdout",
          "output_type": "stream",
          "text": [
            "Spacy tokeniser\n",
            "['I', 'bought', 'a', '12', '-', 'ft', 'boat', '!']\n",
            "['It', 'is', 'a', '2850', 'm', 'distance', 'flight', '.']\n",
            "['The', 'maximum', 'speed', 'on', 'the', 'autobahn', 'is', '130', 'km/h', '.']\n",
            "\n",
            "NLTK simple tokeniser\n",
            "[['I', 'bought', 'a', '12-ft', 'boat', '!']]\n",
            "[['It', 'is', 'a', '2850m', 'distance', 'flight', '.']]\n",
            "[['The', 'maximum', 'speed', 'on', 'the', 'autobahn', 'is', '130km/h', '.']]\n"
          ]
        }
      ],
      "source": [
        "print('Spacy tokeniser')\n",
        "print([token.text for token in nlp(\"I bought a 12-ft boat!\")])\n",
        "print([token.text for token in nlp(\"It is a 2850m distance flight.\")])\n",
        "print([token.text for token in nlp(\"The maximum speed on the autobahn is 130km/h.\")])\n",
        "\n",
        "print('\\nNLTK simple tokeniser')\n",
        "print([nltk.tokenize.word_tokenize(\"I bought a 12-ft boat!\")])\n",
        "print([nltk.tokenize.word_tokenize(\"It is a 2850m distance flight.\")])\n",
        "print([nltk.tokenize.word_tokenize(\"The maximum speed on the autobahn is 130km/h.\")])"
      ]
    },
    {
      "cell_type": "markdown",
      "metadata": {
        "id": "lCv_vEy8-m1h"
      },
      "source": [
        "#### Language dependent tokenisation\n",
        "\n",
        "While some languages have similar rules for tokenisation, other languages are quite different.\n",
        "In French, words originally composed of more than one lexical unit that nowadays form a single lexical unit and should thus be recognized as a single token, where an apostrophe should be used to split the word in some cases, but not in all.\n",
        "\n",
        "The following sentence \"On nous dit qu’aujourd’hui c’est le cas, encore faudra-t-il l’évaluer.\", which means \"We are told that this is the case today, it still needs to be assessed.\" has the following correct tokenisation:\n",
        "\n",
        "'On', 'nous', 'dit', 'qu’', 'aujourd’hui', 'c’', 'est', 'le', 'cas', ',', 'encore', 'faudra', '-t-il', 'l’', 'évaluer', '.'\n",
        "\n",
        "Explanation:\n",
        "- words originally composed of more than one lexical unit that nowadays form a single lexical unit and should thus be recognized as a single token like 'aujourd’hui'\n",
        "- qu’aujourd’hui (that today) - today is in contracted form (qu’) and has to be separated from the rest of the word\n",
        "- c'est (this is) is ce (C') combined with est and has to be split in two words\n",
        "- l’évaluer (evaluate it) is two words, where one is in contracted form and has to be separated\n",
        "- faudra-t-il (will it take) - consists of will (faudra), -t is used to prevent two vowels from clashing and should not be tokenised"
      ]
    },
    {
      "cell_type": "code",
      "execution_count": null,
      "metadata": {
        "id": "5XFnySqi-m1h",
        "outputId": "e5e1c478-5c08-45a3-d5f6-a047b5a37598"
      },
      "outputs": [
        {
          "name": "stdout",
          "output_type": "stream",
          "text": [
            "[['On', 'nous', 'dit', 'qu', '’', 'aujourd', '’', 'hui', 'c', '’', 'est', 'le', 'cas', ',', 'encore', 'faudra-t-il', 'l', '’', 'évaluer', '.']]\n",
            "['On', 'nous', 'dit', 'qu’aujourd’hui', 'c’est', 'le', 'cas', ',', 'encore', 'faudra', '-', 't', '-', 'il', 'l’évaluer', '.']\n"
          ]
        }
      ],
      "source": [
        "print([nltk.tokenize.word_tokenize(\"On nous dit qu’aujourd’hui c’est le cas, encore faudra-t-il l’évaluer.\")])\n",
        "print([token.text for token in nlp(\"On nous dit qu’aujourd’hui c’est le cas, encore faudra-t-il l’évaluer.\")])"
      ]
    },
    {
      "cell_type": "markdown",
      "metadata": {
        "id": "I0xfwCOb-m1h"
      },
      "source": [
        "Let's use the language-specific tokenisation:"
      ]
    },
    {
      "cell_type": "code",
      "execution_count": null,
      "metadata": {
        "id": "MJjVDiDI-m1h",
        "outputId": "c368b4b6-4593-4980-ea50-f970ff5f540d"
      },
      "outputs": [
        {
          "name": "stdout",
          "output_type": "stream",
          "text": [
            "['On', 'nous', 'dit', 'qu’', 'aujourd’hui', 'c’', 'est', 'le', 'cas', ',', 'encore', 'faudra', '-t', '-il', 'l’', 'évaluer', '.']\n"
          ]
        },
        {
          "data": {
            "text/plain": [
              "['On',\n",
              " 'nous',\n",
              " 'dit',\n",
              " 'qu',\n",
              " '’',\n",
              " 'aujourd',\n",
              " '’',\n",
              " 'hui',\n",
              " 'c',\n",
              " '’',\n",
              " 'est',\n",
              " 'le',\n",
              " 'cas',\n",
              " ',',\n",
              " 'encore',\n",
              " 'faudra-t-il',\n",
              " 'l',\n",
              " '’',\n",
              " 'évaluer',\n",
              " '.']"
            ]
          },
          "execution_count": 18,
          "metadata": {},
          "output_type": "execute_result"
        }
      ],
      "source": [
        "nlp_fr = spacy.load(\"fr_core_news_sm\")\n",
        "print([token.text for token in nlp_fr(\"On nous dit qu’aujourd’hui c’est le cas, encore faudra-t-il l’évaluer.\")])\n",
        "nltk.tokenize.word_tokenize(\"On nous dit qu’aujourd’hui c’est le cas, encore faudra-t-il l’évaluer.\", language='french')"
      ]
    },
    {
      "cell_type": "markdown",
      "metadata": {
        "id": "pMSZuYH7-m1h"
      },
      "source": [
        "### Transformers\n",
        "\n",
        "[HuggingFace's](https://huggingface.co/docs/transformers/index) \"transformers\" is a python package for training, using and deploying Transformer-based models (more on that in future lectures). Each transformer model (e.g. BERT, RoBERTa) has its own tokenisation module that should be used together with the model. That is, to use the transformer model \"BERT\", one must tokenise its inputs with the BERT-tokeniser."
      ]
    },
    {
      "cell_type": "code",
      "execution_count": null,
      "metadata": {
        "id": "IT_STk6k-m1h"
      },
      "outputs": [],
      "source": [
        "from transformers import AutoTokenizer\n",
        "bert_tokeniser = AutoTokenizer.from_pretrained(\"bert-base-uncased\")  # The tokeniser of the model \"bert-base-uncased\""
      ]
    },
    {
      "cell_type": "code",
      "execution_count": null,
      "metadata": {
        "id": "d5A1alby-m1h",
        "outputId": "fc2ba379-821a-4c3c-98c2-b088d0da19b7"
      },
      "outputs": [
        {
          "name": "stdout",
          "output_type": "stream",
          "text": [
            "['the', 'maximum', 'speed', 'on', 'the', 'auto', '##bahn', 'is', '130', '##km', '/', 'h', '.']\n"
          ]
        }
      ],
      "source": [
        "tokens = bert_tokeniser.tokenize(\"The maximum speed on the autobahn is 130km/h.\")\n",
        "print(tokens)"
      ]
    },
    {
      "cell_type": "markdown",
      "metadata": {
        "id": "IQoXt1dT-m1i"
      },
      "source": [
        "The \"bert-base-uncased\" tokeniser works differently from the tokenisers of nltk and spacy. Instead of splitting a sentence following a set of rules, it uses a (learned) vocabulary, a set of words that it knows. The tokeniser tries to break the sentence into tokens from its vocabulary. If the tokeniser encounters a work that does not appear in the vocabulary, the work will be split into \"word-pieces\", where each word piece belongs to the vocabulary. For example, the word \"autobahn\" is not part of the vocabulary, so the tokeniser split it into \"auto\" and \"bahn\" (the \"##\" means that \"bahn\" should be merged with the token that comes before it when reconstructing the original sentence from the tokens)."
      ]
    },
    {
      "cell_type": "code",
      "execution_count": null,
      "metadata": {
        "id": "wcx9CR2o-m1i",
        "outputId": "536e773f-7f6c-416e-d225-2c6ff25ac173"
      },
      "outputs": [
        {
          "name": "stdout",
          "output_type": "stream",
          "text": [
            "False\n",
            "True\n",
            "True\n"
          ]
        }
      ],
      "source": [
        "print(\"autobahn\" in bert_tokeniser.vocab)\n",
        "print(\"auto\" in bert_tokeniser.vocab)\n",
        "print(\"bahn\" in bert_tokeniser.vocab)"
      ]
    },
    {
      "cell_type": "markdown",
      "metadata": {
        "id": "AH1Sip8b-m1i"
      },
      "source": [
        "\"bert-base-uncased\" is an English only model, so it can't deal well with sentences in other languages:"
      ]
    },
    {
      "cell_type": "code",
      "execution_count": null,
      "metadata": {
        "id": "WOjp3cyV-m1i",
        "outputId": "39f5e8d9-c461-434b-878a-dbe3c40c9380"
      },
      "outputs": [
        {
          "name": "stdout",
          "output_type": "stream",
          "text": [
            "['on', 'no', '##us', 'di', '##t', 'qu', '’', 'au', '##jou', '##rd', '’', 'hui', 'c', '’', 'est', 'le', 'cas', ',', 'encore', 'fa', '##ud', '##ra', '-', 't', '-', 'il', 'l', '’', 'eva', '##lu', '##er', '.']\n"
          ]
        }
      ],
      "source": [
        "tokens = bert_tokeniser.tokenize(\"On nous dit qu’aujourd’hui c’est le cas, encore faudra-t-il l’évaluer.\")\n",
        "print(tokens)"
      ]
    },
    {
      "cell_type": "markdown",
      "metadata": {
        "id": "iUCSokVr-m1i"
      },
      "source": [
        "CamemBERT, however, is a French language model, so it can tokenise the sentence in a more meaningful (but far from perfect) way.\n",
        "Here, '-' means that this token starts a new word."
      ]
    },
    {
      "cell_type": "code",
      "execution_count": null,
      "metadata": {
        "id": "9ImourAS-m1i",
        "outputId": "c41cf67b-3044-413a-f13c-2aa2629bc397"
      },
      "outputs": [
        {
          "name": "stdout",
          "output_type": "stream",
          "text": [
            "['▁On', '▁nous', '▁dit', '▁qu', '’', 'aujourd', '’', 'hui', '▁c', '’', 'est', '▁le', '▁cas', ',', '▁encore', '▁faudra', '-', 't', '-', 'il', '▁l', '’', 'évaluer', '.']\n"
          ]
        }
      ],
      "source": [
        "camembert_tokeniser = AutoTokenizer.from_pretrained(\"camembert-base\")\n",
        "tokens = camembert_tokeniser.tokenize(\"On nous dit qu’aujourd’hui c’est le cas, encore faudra-t-il l’évaluer.\")\n",
        "print(tokens)"
      ]
    },
    {
      "cell_type": "markdown",
      "metadata": {
        "id": "mfwhgsvp-m1i"
      },
      "source": [
        "Some models are multilingual, and their tokenisers can process sentences from several languages. \"bert-base-multilingual-uncased\" (M-BERT) and \"xlm-roberta-base\" (XLM-RoBERTa) were trained on over 100 different languages!"
      ]
    },
    {
      "cell_type": "code",
      "execution_count": null,
      "metadata": {
        "id": "XZ8kaSDt-m1i",
        "outputId": "0f10e80d-4a60-44f5-d3c5-b7c62813fcca"
      },
      "outputs": [
        {
          "name": "stdout",
          "output_type": "stream",
          "text": [
            "en: ['the', 'maximum', 'speed', 'on', 'the', 'autobahn', 'is', '130', '##km', '/', 'h', '.']\n",
            "fr: ['on', 'nous', 'dit', 'qu', '[UNK]', 'aujourd', '[UNK]', 'hui', 'c', '[UNK]', 'est', 'le', 'cas', ',', 'encore', 'fa', '##udra', '-', 't', '-', 'il', 'l', '[UNK]', 'eva', '##lue', '##r', '.']\n",
            "heb: ['אחד', 'הדבר', '##ים', 'ש', '##אני', 'ה', '##כי', 'או', '##ה', '##ב', 'ב', '##קו', '##פנה', '##גן', 'זה', 'מ', '##א', '##פים', 'עם', 'ה', '##ל']\n"
          ]
        }
      ],
      "source": [
        "mbert_tokeniser = AutoTokenizer.from_pretrained(\"bert-base-multilingual-uncased\")\n",
        "en_tokens = mbert_tokeniser.tokenize(\"The maximum speed on the autobahn is 130km/h.\")\n",
        "\n",
        "fr_tokens = mbert_tokeniser.tokenize(\"On nous dit qu’aujourd’hui c’est le cas, encore faudra-t-il l’évaluer.\")\n",
        "\n",
        "heb_tokens = mbert_tokeniser.tokenize(\"אחד הדברים שאני הכי אוהב בקופנהגן זה מאפים עם הל\")\n",
        "print(\"en:\", en_tokens)\n",
        "print(\"fr:\", fr_tokens)\n",
        "print(\"heb:\", heb_tokens)"
      ]
    },
    {
      "cell_type": "code",
      "execution_count": null,
      "metadata": {
        "id": "xh6JkZmg-m1j",
        "outputId": "91f214e3-149c-4d2d-af22-08f0a6a6fb25"
      },
      "outputs": [
        {
          "name": "stdout",
          "output_type": "stream",
          "text": [
            "en: ['▁The', '▁maximum', '▁speed', '▁on', '▁the', '▁auto', 'bahn', '▁is', '▁130', 'km', '/', 'h', '.']\n",
            "fr: ['▁On', '▁nous', '▁dit', '▁qu', '’', 'aujourd', '’', 'hui', '▁c', '’', 'est', '▁le', '▁cas', ',', '▁encore', '▁faudra', '-', 't', '-', 'il', '▁l', '’', 'évaluer', '.']\n",
            "heb: ['▁אחד', '▁הדברים', '▁שאני', '▁הכי', '▁אוהב', '▁בקו', 'פנה', 'גן', '▁זה', '▁מא', 'פים', '▁עם', '▁הל']\n"
          ]
        }
      ],
      "source": [
        "xlm_tokeniser = AutoTokenizer.from_pretrained(\"xlm-roberta-base\")\n",
        "en_tokens = xlm_tokeniser.tokenize(\"The maximum speed on the autobahn is 130km/h.\")\n",
        "\n",
        "fr_tokens = xlm_tokeniser.tokenize(\"On nous dit qu’aujourd’hui c’est le cas, encore faudra-t-il l’évaluer.\")\n",
        "\n",
        "heb_tokens = xlm_tokeniser.tokenize(\"אחד הדברים שאני הכי אוהב בקופנהגן זה מאפים עם הל\")\n",
        "print(\"en:\", en_tokens)\n",
        "print(\"fr:\", fr_tokens)\n",
        "print(\"heb:\", heb_tokens)"
      ]
    },
    {
      "cell_type": "markdown",
      "metadata": {
        "id": "UqIyWk0x-m1j"
      },
      "source": [
        "#### References:\n",
        "- Introduction to Spacy and its features: https://spacy.io/usage/spacy-101\n",
        "- NLTK tokenisation functionalities: https://www.nltk.org/api/nltk.tokenize.html\n",
        "- HuggingFace's transformers and tokenisers: https://huggingface.co/docs/transformers/main_classes/tokenizer\n",
        "- On rules and different languages: http://ceur-ws.org/Vol-2226/paper9.pdf\n",
        "- Why do we need language-specific tokenisation: https://stackoverflow.com/questions/17314506/why-do-i-need-a-tokenizer-for-each-language"
      ]
    },
    {
      "cell_type": "markdown",
      "metadata": {
        "id": "OzaOXbhK-m1j"
      },
      "source": [
        "---\n",
        "## Introduction to PyTorch https://pytorch.org/"
      ]
    },
    {
      "cell_type": "code",
      "execution_count": null,
      "metadata": {
        "id": "GWQcwBCr-m1j",
        "outputId": "4e4fb675-1a4b-48a5-faa7-2b0523d01bd5"
      },
      "outputs": [
        {
          "data": {
            "text/plain": [
              "<torch._C.Generator at 0x7fe74a093b30>"
            ]
          },
          "execution_count": 26,
          "metadata": {},
          "output_type": "execute_result"
        }
      ],
      "source": [
        "import torch\n",
        "import torch.nn as nn\n",
        "import torch.nn.functional as F\n",
        "import torch.optim as optim\n",
        "\n",
        "torch.manual_seed(123)"
      ]
    },
    {
      "cell_type": "markdown",
      "metadata": {
        "id": "cZU3_OCU-m1j"
      },
      "source": [
        "### Dataset and Bag-of-Words"
      ]
    },
    {
      "cell_type": "code",
      "execution_count": null,
      "metadata": {
        "id": "5dSz-29L-m1j"
      },
      "outputs": [],
      "source": [
        "data = [(\"me gusta comer en la cafeteria\".split(), \"SPANISH\"),\n",
        "        (\"Give it to me\".split(), \"ENGLISH\"),\n",
        "        (\"No creo que sea una buena idea\".split(), \"SPANISH\"),\n",
        "        (\"No it is not a good idea to get lost at sea\".split(), \"ENGLISH\")]\n",
        "\n",
        "test_data = [(\"Yo creo que si\".split(), \"SPANISH\"),\n",
        "             (\"it is lost on me\".split(), \"ENGLISH\")]\n",
        "label_to_ix = {\"SPANISH\": 0, \"ENGLISH\": 1}"
      ]
    },
    {
      "cell_type": "markdown",
      "metadata": {
        "id": "GRUS4Tc--m1j"
      },
      "source": [
        "Typically a common way to read in data in PyTorch is to use the following classes: `torch.utils.data.Dataset` and `torch.utils.data.DataLoader`. Since today we work with a tiny dataset, we omit this part.\n",
        "\n",
        "Now we represent the data as Bag-of-Words (BoW) which is a simple way of extracting features from text describing the occurrence of words within a document. Intuitevely, similar documents have similar content."
      ]
    },
    {
      "cell_type": "code",
      "execution_count": null,
      "metadata": {
        "id": "7aaNXI6l-m1j",
        "outputId": "1438202d-673d-42b7-f1ca-d896a1be6e36"
      },
      "outputs": [
        {
          "name": "stdout",
          "output_type": "stream",
          "text": [
            "{'me': 0, 'gusta': 1, 'comer': 2, 'en': 3, 'la': 4, 'cafeteria': 5, 'Give': 6, 'it': 7, 'to': 8, 'No': 9, 'creo': 10, 'que': 11, 'sea': 12, 'una': 13, 'buena': 14, 'idea': 15, 'is': 16, 'not': 17, 'a': 18, 'good': 19, 'get': 20, 'lost': 21, 'at': 22, 'Yo': 23, 'si': 24, 'on': 25}\n"
          ]
        }
      ],
      "source": [
        "# Function to map each word in the vocab to an unique integer\n",
        "# Indexing the Bag of words vector\n",
        "word_to_ix = {}\n",
        "for sent, _ in data + test_data:\n",
        "    for word in sent:\n",
        "        if word not in word_to_ix:\n",
        "            word_to_ix[word] = len(word_to_ix)\n",
        "print(word_to_ix)"
      ]
    },
    {
      "cell_type": "code",
      "execution_count": null,
      "metadata": {
        "id": "-g566IFs-m1k"
      },
      "outputs": [],
      "source": [
        "VOCAB_SIZE = len(word_to_ix)\n",
        "NUM_LABELS = 2"
      ]
    },
    {
      "cell_type": "markdown",
      "metadata": {
        "id": "RurAR6fJ-m1k"
      },
      "source": [
        "### Custom Classifier"
      ]
    },
    {
      "cell_type": "markdown",
      "metadata": {
        "id": "XryMb6nr-m1k"
      },
      "source": [
        "Our classifier inherits from the `nn.Module` class which provides an interface to important methods used for constructing and working with our models.\n",
        "\n",
        "Here, we will implement a custom multi-layer feed forward neural network. In our example, we calculate:\n",
        "$$\n",
        "y = final(nonlinear(linear(BoW))\n",
        "$$\n",
        "where nonlinear denotes a non-linear function (we use [`nn.ReLU`](https://pytorch.org/docs/stable/generated/torch.nn.ReLU.html)) and the first and final layer are both linear functions implemented with`nn.Linear`. In practice, we create a `nn.Module` containing the definition of our model architecture in the `__init__` function. The `__forward__` function defines how tensors are processed by our model."
      ]
    },
    {
      "cell_type": "code",
      "execution_count": null,
      "metadata": {
        "id": "KYLtPvb4-m1k"
      },
      "outputs": [],
      "source": [
        "class BoWClassifier(nn.Module):\n",
        "\n",
        "    def __init__(self, num_labels, vocab_size, num_hidden = 2):\n",
        "        # Calls the init function of nn.Module.\n",
        "        super(BoWClassifier, self).__init__()\n",
        "\n",
        "        # Define the parameters that you need.\n",
        "        self.linear = nn.Linear(vocab_size, num_hidden)\n",
        "        # non-linearity (here it is also a layer!)\n",
        "        self.nonlinear = nn.ReLU()\n",
        "        # final affine transformation\n",
        "        self.final = nn.Linear(num_hidden, num_labels)\n",
        "\n",
        "    def forward(self, bow_vec):\n",
        "        # Pass the input through the linear layer,\n",
        "        # then pass that through log_softmax.\n",
        "        # Many non-linearities and other functions are in torch.nn.functional\n",
        "        return self.final(self.nonlinear(self.linear(bow_vec)))"
      ]
    },
    {
      "cell_type": "code",
      "execution_count": null,
      "metadata": {
        "id": "amlqg9a3-m1k"
      },
      "outputs": [],
      "source": [
        "# Functions to create BoW vectors\n",
        "def make_bow_vector(sentence, word_to_ix):\n",
        "    vec = torch.zeros(len(word_to_ix))\n",
        "    for word in sentence:\n",
        "        vec[word_to_ix[word]] += 1\n",
        "    return vec.view(1, -1)\n",
        "\n",
        "\n",
        "def make_target(label, label_to_ix):\n",
        "    return torch.LongTensor([label_to_ix[label]])"
      ]
    },
    {
      "cell_type": "markdown",
      "metadata": {
        "id": "mLMGzjT9-m1k"
      },
      "source": [
        "The `BoWClassifier` (or any other module you will create) stores knowledge of the models's parameters."
      ]
    },
    {
      "cell_type": "code",
      "execution_count": null,
      "metadata": {
        "id": "IIC-HnbJ-m1k",
        "outputId": "3feb7723-26e1-49ca-df46-f09d18f412e0"
      },
      "outputs": [
        {
          "name": "stdout",
          "output_type": "stream",
          "text": [
            "Parameter containing:\n",
            "tensor([[-0.0800,  0.0065, -0.0974,  0.0740, -0.1671,  0.1438, -0.1425, -0.1559,\n",
            "         -0.1239,  0.0888, -0.0725,  0.0734, -0.1664, -0.1190, -0.0720, -0.0385,\n",
            "         -0.1496,  0.1284, -0.0463,  0.0630,  0.1387,  0.0365,  0.0536,  0.1893,\n",
            "         -0.0885,  0.0621],\n",
            "        [-0.0873,  0.1402,  0.1566, -0.1808,  0.1674,  0.0936,  0.0855,  0.0807,\n",
            "          0.1630, -0.0259, -0.1659, -0.0563, -0.1381,  0.0130, -0.0366, -0.1052,\n",
            "         -0.0178,  0.1858, -0.0155,  0.0062, -0.0306,  0.0308,  0.1747,  0.1199,\n",
            "          0.0696,  0.0426]], requires_grad=True)\n",
            "Parameter containing:\n",
            "tensor([0.0462, 0.0758], requires_grad=True)\n",
            "Parameter containing:\n",
            "tensor([[-0.0914, -0.6572],\n",
            "        [-0.4373,  0.6036]], requires_grad=True)\n",
            "Parameter containing:\n",
            "tensor([ 0.0423, -0.5728], requires_grad=True)\n"
          ]
        }
      ],
      "source": [
        "model = BoWClassifier(NUM_LABELS, VOCAB_SIZE)\n",
        "\n",
        "# The first output below is A, the second is b.\n",
        "for param in model.parameters():\n",
        "    print(param)"
      ]
    },
    {
      "cell_type": "markdown",
      "metadata": {
        "id": "lMVW4dPe-m1k"
      },
      "source": [
        "We run the model on the test data before we train to compare with the results from a trained model."
      ]
    },
    {
      "cell_type": "code",
      "execution_count": null,
      "metadata": {
        "id": "7KdrENBi-m1l",
        "outputId": "90b923e8-8fc0-4bf2-8369-2f964a7b6f3e"
      },
      "outputs": [
        {
          "name": "stdout",
          "output_type": "stream",
          "text": [
            "tensor([[ 3.6781e-04, -6.1148e-01]])\n",
            "tensor([[-0.0398, -0.4974]])\n",
            "tensor([-0.0725, -0.1659], grad_fn=<SelectBackward>)\n"
          ]
        }
      ],
      "source": [
        "with torch.no_grad():\n",
        "    for text, label in test_data:\n",
        "        bow_vec = make_bow_vector(text, word_to_ix)\n",
        "        log_probs = model(bow_vec)\n",
        "        print(log_probs)\n",
        "\n",
        "# Print the matrix column corresponding to \"creo\"\n",
        "print(next(model.parameters())[:, word_to_ix[\"creo\"]])"
      ]
    },
    {
      "cell_type": "markdown",
      "metadata": {
        "id": "ATJn7Kij-m1l"
      },
      "source": [
        "### Training"
      ]
    },
    {
      "cell_type": "markdown",
      "metadata": {
        "id": "-uNen4Fu-m1l"
      },
      "source": [
        "We set our loss function to cross entropy which combines `nn.LogSoftmax()` and `nn.NLLLoss()` (negative log likelihood) and calculate gradients with stochastic gradient descent.\n",
        "\n",
        "Usually we want to pass over the training data several times by setting a respective number of epochs. Since we have a tiny dataset, we will exaggerate with the number of epochs."
      ]
    },
    {
      "cell_type": "code",
      "execution_count": null,
      "metadata": {
        "id": "iVIJYAM3-m1l"
      },
      "outputs": [],
      "source": [
        "loss_function = nn.CrossEntropyLoss()\n",
        "optimizer = optim.SGD(model.parameters(), lr=0.1)"
      ]
    },
    {
      "cell_type": "code",
      "execution_count": null,
      "metadata": {
        "id": "GEF83GK_-m1l"
      },
      "outputs": [],
      "source": [
        "for epoch in range(200):\n",
        "    for instance, label in data:\n",
        "        # Step 1. Remember that PyTorch accumulates gradients.\n",
        "        # We need to clear them out before each instance\n",
        "        model.zero_grad()\n",
        "\n",
        "        # Step 2. Make our BOW vector and also we must wrap the target in a\n",
        "        # Tensor as an integer. For example, if the target is SPANISH, then\n",
        "        # we wrap the integer 0. The loss function then knows that the 0th\n",
        "        # element of the log probabilities is the log probability\n",
        "        # corresponding to SPANISH\n",
        "        bow_vec = make_bow_vector(instance, word_to_ix)\n",
        "        target = make_target(label, label_to_ix)\n",
        "\n",
        "        # Step 3. Run our forward pass.\n",
        "        log_probs = model(bow_vec)\n",
        "\n",
        "        # Step 4. Compute the loss, gradients, and update the parameters by\n",
        "        # calling optimizer.step()\n",
        "        loss = loss_function(log_probs, target)\n",
        "        loss.backward()\n",
        "        optimizer.step()"
      ]
    },
    {
      "cell_type": "markdown",
      "metadata": {
        "id": "VEF1WxJT-m1m"
      },
      "source": [
        "### Evaluation"
      ]
    },
    {
      "cell_type": "markdown",
      "metadata": {
        "id": "9vER6uTL-m1m"
      },
      "source": [
        "Let's see if our model can now predict more accurately, if a sentence is written in English or Spanish!\n",
        "\n",
        "Indeed, the log probability for Spanish is much higher for the first sentence, while the log probability for English is much higher for the second sentence in the test data!"
      ]
    },
    {
      "cell_type": "code",
      "execution_count": null,
      "metadata": {
        "id": "UwaXJeYZ-m1m",
        "outputId": "5425420c-13b6-4cc3-92ef-bdf38a5a0b64"
      },
      "outputs": [
        {
          "name": "stdout",
          "output_type": "stream",
          "text": [
            "tensor([[ 1.3078, -1.9363]])\n",
            "tensor([[-1.5922,  0.9361]])\n"
          ]
        }
      ],
      "source": [
        "with torch.no_grad():\n",
        "    for instance, label in test_data:\n",
        "        bow_vec = make_bow_vector(instance, word_to_ix)\n",
        "        log_probs = model(bow_vec)\n",
        "        print(log_probs)"
      ]
    },
    {
      "cell_type": "code",
      "execution_count": null,
      "metadata": {
        "id": "vv4pkDCJ-m1m",
        "outputId": "8ab0b4ae-3ec4-40d3-8264-6d02e391b27e"
      },
      "outputs": [
        {
          "name": "stdout",
          "output_type": "stream",
          "text": [
            "tensor([-0.0725, -0.2638], grad_fn=<SelectBackward>)\n"
          ]
        }
      ],
      "source": [
        "print(next(model.parameters())[:, word_to_ix[\"creo\"]])"
      ]
    },
    {
      "cell_type": "markdown",
      "metadata": {
        "id": "Ycj7Z8KI-m1m"
      },
      "source": [
        "### Useful links\n",
        "- PyTorch Tutorials:\n",
        "https://pytorch.org/tutorials/index.html\n",
        "- Introduction to Pytorch notebook from Stanford: https://nbviewer.jupyter.org/github/cgpotts/cs224u/blob/master/tutorial_pytorch.ipynb"
      ]
    },
    {
      "cell_type": "markdown",
      "metadata": {
        "id": "cEuL5xIO-m1m"
      },
      "source": [
        "----\n",
        "## Course Project"
      ]
    },
    {
      "cell_type": "markdown",
      "metadata": {
        "id": "oxqGwLBj-m1m"
      },
      "source": [
        "* **Group project**, can be completed in a group of up to 3 students:\n",
        "\n",
        "    * Released 3 September, **hand-in 1 November 17:00**\n",
        "    * Joint report, contribution of each student should be stated clearly\n",
        "    * Code to be uploaded as attachment\n",
        "    * Individual grade for each group member, based on the quality and quantity of their contributions\n",
        "    * Submission via Digital Exam\n",
        "    * Consists of several parts tied to weekly lecture topics\n",
        "    * AI assistance is allowed **with restrictions**\n",
        "    * We cannot guarantee responses to queries about the project after 31 October 15:00\n",
        "    * Finding a group:\n",
        "       * Deadline for group forming: **9 September 17:00**\n",
        "       * We offer to help you find a group -- fill in the Getting to Know You survey by the end of first lecture day, **3 September 17:00**\n",
        "       * If you choose this option, you will be informed of your assigned group on **4 September**\n",
        "       * You can still change groups afterwards by asking other students to swap groups (it's your responsibility to arrange this)\n",
        "       * Otherwise, we assume you will find a group by yourself in the first course week, e.g. by coordinating with other students in the lab session"
      ]
    },
    {
      "cell_type": "markdown",
      "metadata": {
        "id": "DqGh7rUu-m1m"
      },
      "source": []
    }
  ],
  "metadata": {
    "kernelspec": {
      "display_name": "Python 3",
      "language": "python",
      "name": "python3"
    },
    "language_info": {
      "codemirror_mode": {
        "name": "ipython",
        "version": 3
      },
      "file_extension": ".py",
      "mimetype": "text/x-python",
      "name": "python",
      "nbconvert_exporter": "python",
      "pygments_lexer": "ipython3",
      "version": "3.8.2"
    },
    "colab": {
      "provenance": [],
      "include_colab_link": true
    }
  },
  "nbformat": 4,
  "nbformat_minor": 0
}